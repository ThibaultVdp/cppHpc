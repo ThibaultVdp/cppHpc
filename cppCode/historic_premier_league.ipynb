{
 "cells": [
  {
   "cell_type": "code",
   "execution_count": 1,
   "metadata": {},
   "outputs": [],
   "source": [
    "import pandas as pd"
   ]
  },
  {
   "cell_type": "code",
   "execution_count": null,
   "metadata": {},
   "outputs": [],
   "source": [
    "# read in the data and transform it\n",
    "df = pd.read_csv(\"premier-league-matches.csv\")\n",
    "df = df.rename(columns = {\"Season_End_Year\": \"season\", \"Wk\":\"round\"})\n",
    "df = df.drop(columns =[\"FTR\"])"
   ]
  },
  {
   "cell_type": "code",
   "execution_count": 27,
   "metadata": {},
   "outputs": [
    {
     "name": "stdout",
     "output_type": "stream",
     "text": [
      "1993: 462\n",
      "1994: 462\n",
      "1995: 462\n",
      "1996: 380\n",
      "1997: 380\n",
      "1998: 380\n",
      "1999: 380\n",
      "2000: 380\n",
      "2001: 380\n",
      "2002: 380\n",
      "2003: 380\n",
      "2004: 380\n",
      "2005: 380\n",
      "2006: 380\n",
      "2007: 380\n",
      "2008: 380\n",
      "2009: 380\n",
      "2010: 380\n",
      "2011: 380\n",
      "2012: 380\n",
      "2013: 380\n",
      "2014: 380\n",
      "2015: 380\n",
      "2016: 380\n",
      "2017: 380\n",
      "2018: 380\n",
      "2019: 380\n",
      "2020: 380\n",
      "2021: 380\n",
      "2022: 380\n",
      "2023: 380\n"
     ]
    }
   ],
   "source": [
    "# check if all the seasons have the same number of matches\n",
    "seasons = [i for i in range(1993, 2024)]\n",
    "\n",
    "for season in seasons: \n",
    "    \n",
    "    df_season = df[df[\"season\"] == season]\n",
    "    print(f\"{season}: {len(df_season)}\")\n",
    "    \n"
   ]
  },
  {
   "cell_type": "code",
   "execution_count": 35,
   "metadata": {},
   "outputs": [],
   "source": [
    "final_df = df[(df[\"season\"] != 1993) & (df[\"season\"] != 1994) & (df[\"season\"] != 1995)]"
   ]
  }
 ],
 "metadata": {
  "kernelspec": {
   "display_name": "Python 3",
   "language": "python",
   "name": "python3"
  },
  "language_info": {
   "codemirror_mode": {
    "name": "ipython",
    "version": 3
   },
   "file_extension": ".py",
   "mimetype": "text/x-python",
   "name": "python",
   "nbconvert_exporter": "python",
   "pygments_lexer": "ipython3",
   "version": "3.13.0"
  }
 },
 "nbformat": 4,
 "nbformat_minor": 2
}
